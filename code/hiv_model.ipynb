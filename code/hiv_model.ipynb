{
 "cells": [
  {
   "cell_type": "markdown",
   "metadata": {},
   "source": [
    "# Odalys Benitez "
   ]
  },
  {
   "cell_type": "code",
   "execution_count": 1,
   "metadata": {},
   "outputs": [],
   "source": [
    "%matplotlib inline\n",
    "\n",
    "# Configure Jupyter to display the assigned value after an assignment\n",
    "%config InteractiveShell.ast_node_interactivity='last_expr_or_assign'\n",
    "\n",
    "# import functions from the modsim.py module\n",
    "from modsim import *"
   ]
  },
  {
   "cell_type": "code",
   "execution_count": 10,
   "metadata": {},
   "outputs": [],
   "source": [
    "def make_system(beta, gamma, mu, alpha, sigma, delta, pi, tau, rho):\n",
    "    \"\"\"\n",
    "    R= uninfected CD4 lymphocytes\n",
    "    L=latently infected cells\n",
    "    E= actively infected cells\n",
    "    V= free virions\n",
    "    α\tAlpha\n",
    "    β\tBeta\n",
    "    γ\tGamma\n",
    "    δ\tDelta\n",
    "    μ\tMu\n",
    "    π\tPi\n",
    "    σ,ς *\tSigma\n",
    "    ρ\tRho\n",
    "    τ\tTau\n",
    "    \n",
    "    returns: System object\n",
    "    \"\"\"\n",
    "    init = State(R=8, L=3, E=2, V=0)\n",
    "    init /= np.sum(init)\n",
    "\n",
    "    t0 = 0\n",
    "    t_end = 7 * 14\n",
    "    \n",
    "    return System(init=init, t0=t0, t_end=t_end,\n",
    "                  beta=beta, gamma=gamma, alpha=alpha, mu=mu, pi=pi, sigma=sigma, delta=delta, tau=tau, rho=rho)"
   ]
  },
  {
   "cell_type": "code",
   "execution_count": 11,
   "metadata": {},
   "outputs": [],
   "source": [
    "def update_func(state, t, system):\n",
    "    \"\"\"Update the SIR model.\n",
    "    \n",
    "    state: State (r, l, e v)\n",
    "    t: time\n",
    "    system: System object\n",
    "    \n",
    "    returns: State (sir)\n",
    "    \"\"\"\n",
    "    unpack(system)\n",
    "    \n",
    "    r, l, e, v = state\n",
    "    \n",
    "    #rdelta = (gamma * tau) - (mu * r) - (beta * r * v) \n",
    "    #ldelta(rho * rdelta_flow_out_L) - (mu * l) - (alpha * l)\n",
    "    #edelta = ((1 - rho) * (beta * r * v)) + (alpha * l) - (delta * e)\n",
    "    #vdelta = (pi * e) - (sigma * v)\n",
    "    rdelta_flow_in = (gamma * tau)\n",
    "    rdelta_flow_death = (mu * r)\n",
    "    rdelta_flow_out_L = (beta * r * v) \n",
    "    ldelta_flow_in = (rho * rdelta_flow_out_L) \n",
    "    ldelta_flow_death = (mu * l) \n",
    "    ldelta_flow_out_E = (alpha * l)\n",
    "    edelta_flow_in = ((1 - rho) * (rdelta_flow_out_L)) + (ldelta_flow_out_E) \n",
    "    edelta_flow_death = (delta * e)\n",
    "    vdelta_creation = (pi * e) \n",
    "    vdelta_death = (sigma * v)\n",
    "    \n",
    "    r += rdelta_flow_in - rdelta_flow_death - rdelta_flow_out_L \n",
    "    l += ldelta_flow_in - ldelta_flow_death - ldelta_flow_out_E\n",
    "    e += edelta_flow_in - edelta_flow_death\n",
    "    v += vdelta_creation - vdelta_death\n",
    "    \n",
    "    return State(R=r, L=l, E=e, V=v)"
   ]
  },
  {
   "cell_type": "code",
   "execution_count": null,
   "metadata": {},
   "outputs": [],
   "source": []
  },
  {
   "cell_type": "code",
   "execution_count": null,
   "metadata": {},
   "outputs": [],
   "source": []
  }
 ],
 "metadata": {
  "kernelspec": {
   "display_name": "Python 3",
   "language": "python",
   "name": "python3"
  },
  "language_info": {
   "codemirror_mode": {
    "name": "ipython",
    "version": 3
   },
   "file_extension": ".py",
   "mimetype": "text/x-python",
   "name": "python",
   "nbconvert_exporter": "python",
   "pygments_lexer": "ipython3",
   "version": "3.6.6"
  }
 },
 "nbformat": 4,
 "nbformat_minor": 2
}
